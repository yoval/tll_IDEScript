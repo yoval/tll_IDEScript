{
 "cells": [
  {
   "cell_type": "code",
   "execution_count": null,
   "id": "96c4701b",
   "metadata": {},
   "outputs": [],
   "source": [
    "import pandas as pd\n",
    "import glob,os,time\n",
    "import configparser"
   ]
  },
  {
   "cell_type": "code",
   "execution_count": null,
   "id": "e56d4752",
   "metadata": {},
   "outputs": [],
   "source": [
    "config = configparser.ConfigParser()\n",
    "config.read('config.ini', encoding='utf-8')\n",
    "folder = config.get('baohuo', 'folder')"
   ]
  },
  {
   "cell_type": "code",
   "execution_count": null,
   "id": "db71b841",
   "metadata": {},
   "outputs": [],
   "source": [
    "now = time.strftime('%Y%m%d_%H%M', time.localtime())\n",
    "fileList = glob.glob(os.path.join(folder, '*报货信息*.xlsx')) "
   ]
  },
  {
   "cell_type": "code",
   "execution_count": null,
   "id": "152acd92",
   "metadata": {},
   "outputs": [],
   "source": [
    "file = fileList[0]"
   ]
  },
  {
   "cell_type": "code",
   "execution_count": null,
   "id": "6e04e12f",
   "metadata": {},
   "outputs": [],
   "source": [
    "# 读取底表sheet\n",
    "def Read_bottom_tables(file):\n",
    "    print(file)\n",
    "    excel_file = pd.ExcelFile(file)\n",
    "    sheet_names = excel_file.sheet_names\n",
    "    bottom_tables = [sheet for sheet in sheet_names if '底表' in sheet][0]\n",
    "    df = pd.read_excel(file, sheet_name = bottom_tables)\n",
    "    food_name = bottom_tables.replace('底表','')\n",
    "    return food_name, df"
   ]
  },
  {
   "cell_type": "code",
   "execution_count": null,
   "id": "5f042cce",
   "metadata": {},
   "outputs": [],
   "source": [
    "food_name,df1_original = Read_bottom_tables(file)"
   ]
  },
  {
   "cell_type": "code",
   "execution_count": null,
   "id": "eb707d02",
   "metadata": {},
   "outputs": [],
   "source": [
    "df1 = df1_original.loc[: , ['门店编码', '门店名称', '大区经理', '省区经理', '区域经理', '运营状态','省', f'{food_name}报货周期']]"
   ]
  },
  {
   "cell_type": "code",
   "execution_count": null,
   "id": "a0fd73a6",
   "metadata": {},
   "outputs": [],
   "source": [
    "for file in fileList[1:]:\n",
    "    food_name_tb,df_original = Read_bottom_tables(file)\n",
    "    food_name = food_name + '&' + food_name_tb\n",
    "    df = df_original.loc[:,['门店编码',f'{food_name_tb}报货周期']]\n",
    "    df1= pd.merge(df1, df, how='left', on='门店编码')"
   ]
  },
  {
   "cell_type": "code",
   "execution_count": null,
   "id": "b6d88214",
   "metadata": {},
   "outputs": [],
   "source": [
    "df1.to_excel(f'{folder}\\\\{food_name}报货汇总_{now}.xlsx',index=False)"
   ]
  },
  {
   "cell_type": "code",
   "execution_count": null,
   "id": "527b94a0",
   "metadata": {},
   "outputs": [],
   "source": []
  }
 ],
 "metadata": {
  "kernelspec": {
   "display_name": "Python 3 (ipykernel)",
   "language": "python",
   "name": "python3"
  },
  "language_info": {
   "codemirror_mode": {
    "name": "ipython",
    "version": 3
   },
   "file_extension": ".py",
   "mimetype": "text/x-python",
   "name": "python",
   "nbconvert_exporter": "python",
   "pygments_lexer": "ipython3",
   "version": "3.11.8"
  }
 },
 "nbformat": 4,
 "nbformat_minor": 5
}
